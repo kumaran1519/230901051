{
 "cells": [
  {
   "cell_type": "code",
   "execution_count": 24,
   "id": "3a1a0bee",
   "metadata": {},
   "outputs": [
    {
     "name": "stdout",
     "output_type": "stream",
     "text": [
      "\n",
      " original dataframe: \n",
      "    S  R\n",
      "0  3  9\n",
      "1  3  9\n",
      "2  3  9\n",
      "3  3  9\n",
      "\n",
      " square root: \n",
      "           S    R\n",
      "0  1.732051  3.0\n",
      "1  1.732051  3.0\n",
      "2  1.732051  3.0\n",
      "3  1.732051  3.0\n",
      "\n",
      " sum of each coulumn: \n",
      " S    12\n",
      "R    36\n",
      "dtype: int64\n",
      "\n",
      " sum of each row: \n",
      " 0    12\n",
      "1    12\n",
      "2    12\n",
      "3    12\n",
      "dtype: int64\n"
     ]
    }
   ],
   "source": [
    "import pandas as pd\n",
    "import numpy as np\n",
    "info=pd.DataFrame([[3,9]]*4,columns=['S','R'])\n",
    "print(\"\\n original dataframe: \\n\",info)\n",
    "print(\"\\n square root: \\n\",info.apply(np.sqrt))\n",
    "print(\"\\n sum of each coulumn: \\n\",info.apply(np.sum,axis=0))\n",
    "print(\"\\n sum of each row: \\n\",info.apply(np.sum,axis=1))"
   ]
  },
  {
   "cell_type": "code",
   "execution_count": 26,
   "id": "5df8ad41",
   "metadata": {},
   "outputs": [
    {
     "name": "stdout",
     "output_type": "stream",
     "text": [
      "   X  Y  Z\n",
      "0  2  4  6\n",
      "1  1  3  5\n",
      "2  5  8  7\n",
      "     X  Y  Z\n",
      "min  1  3  5\n",
      "max  5  8  7\n"
     ]
    }
   ],
   "source": [
    "import pandas as pd\n",
    "import numpy as np\n",
    "info=pd.DataFrame([[2,4,6],[1,3,5],[5,8,7]],columns=['X','Y','Z'])\n",
    "print(info)\n",
    "print(info.agg(['min','max']))"
   ]
  },
  {
   "cell_type": "code",
   "execution_count": 32,
   "id": "fd7f361f",
   "metadata": {},
   "outputs": [
    {
     "name": "stdout",
     "output_type": "stream",
     "text": [
      "  EmpName  ID\n",
      "0     Sai  88\n",
      "1     Poo  70\n",
      "Adding new column \n",
      "   EmpName  ID  Age\n",
      "0     Sai  88   20\n",
      "1     Poo  70   18\n",
      "Adding new columns \n",
      "   EmpName  ID  Age   Sex\n",
      "0     Sai  88   20  Male\n",
      "1     Poo  70   18  Male\n"
     ]
    }
   ],
   "source": [
    "import pandas as pd\n",
    "import numpy as np\n",
    "d2=pd.DataFrame([['Sai',88],['Poo',70]],columns=['EmpName','ID'])\n",
    "print(d2)\n",
    "d2['Age']=[20,18]\n",
    "print(\"Adding new column \\n\",d2)\n",
    "d2['Sex']=['Male','Male']\n",
    "print(\"Adding new columns \\n\",d2)\n",
    "a=d2.assign(Age=[20,18])"
   ]
  },
  {
   "cell_type": "code",
   "execution_count": 39,
   "id": "67260352",
   "metadata": {},
   "outputs": [
    {
     "name": "stdout",
     "output_type": "stream",
     "text": [
      "       col3      col4\n",
      "3 -0.508022  0.385342\n",
      "2  0.601747  0.171615\n",
      "0 -0.012870 -0.571342\n",
      "4  1.278767  0.790155\n",
      "1  1.131508  1.248281\n",
      "       col3      col4\n",
      "0 -0.012870 -0.571342\n",
      "1  1.131508  1.248281\n",
      "2  0.601747  0.171615\n",
      "3 -0.508022  0.385342\n",
      "4  1.278767  0.790155\n",
      "       col3      col4\n",
      "3 -0.508022  0.385342\n",
      "0 -0.012870 -0.571342\n",
      "2  0.601747  0.171615\n",
      "1  1.131508  1.248281\n",
      "4  1.278767  0.790155\n"
     ]
    }
   ],
   "source": [
    "import pandas as pd\n",
    "info=pd.DataFrame(np.random.randn(5,2),index=[3,2,0,4,1],columns=['col3','col4'])\n",
    "print(info)\n",
    "info2=info.sort_index()\n",
    "print(info2)\n",
    "info3=info.sort_values(by='col3')\n",
    "print(info3)\n"
   ]
  },
  {
   "cell_type": "code",
   "execution_count": 6,
   "id": "23fe806a",
   "metadata": {},
   "outputs": [
    {
     "name": "stdout",
     "output_type": "stream",
     "text": [
      "   id  Name   Sub\n",
      "0   1   Sai  sub1\n",
      "1   2   Poo  sub2\n",
      "2   3  Saba  sub4\n",
      "3   4  Yuvi  sub3\n",
      "   id    Name   Sub\n",
      "0   1  Sanjay  sub2\n",
      "1   2   Saran  sub4\n",
      "2   3     Som  sub3\n",
      "3   4    Ruba  sub5\n",
      "   id Name_x Sub_x  Name_y Sub_y\n",
      "0   1    Sai  sub1  Sanjay  sub2\n",
      "1   2    Poo  sub2   Saran  sub4\n",
      "2   3   Saba  sub4     Som  sub3\n",
      "3   4   Yuvi  sub3    Ruba  sub5\n"
     ]
    }
   ],
   "source": [
    "import pandas as pd\n",
    "import numpy as np\n",
    "left=pd.DataFrame({'id':[1,2,3,4],'Name':['Sai','Poo','Saba','Yuvi'],'Sub':['sub1','sub2','sub4','sub3']})\n",
    "right=pd.DataFrame({'id':[1,2,3,4],'Name':['Sanjay','Saran','Som','Ruba'],'Sub':['sub2','sub4','sub3','sub5']})\n",
    "print(left)\n",
    "print(right)\n",
    "print(pd.merge(left,right,on=\"id\"))"
   ]
  },
  {
   "cell_type": "code",
   "execution_count": null,
   "id": "c4e26247",
   "metadata": {},
   "outputs": [],
   "source": []
  },
  {
   "cell_type": "code",
   "execution_count": null,
   "id": "a4f480ea",
   "metadata": {},
   "outputs": [],
   "source": []
  }
 ],
 "metadata": {
  "kernelspec": {
   "display_name": "Python 3 (ipykernel)",
   "language": "python",
   "name": "python3"
  },
  "language_info": {
   "codemirror_mode": {
    "name": "ipython",
    "version": 3
   },
   "file_extension": ".py",
   "mimetype": "text/x-python",
   "name": "python",
   "nbconvert_exporter": "python",
   "pygments_lexer": "ipython3",
   "version": "3.11.5"
  }
 },
 "nbformat": 4,
 "nbformat_minor": 5
}
