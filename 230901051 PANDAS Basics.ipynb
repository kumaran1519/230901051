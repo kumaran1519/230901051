{
 "cells": [
  {
   "cell_type": "code",
   "execution_count": 3,
   "id": "80a523ff",
   "metadata": {},
   "outputs": [
    {
     "name": "stdout",
     "output_type": "stream",
     "text": [
      "Empty DataFrame\n",
      "Columns: []\n",
      "Index: []\n"
     ]
    }
   ],
   "source": [
    "import pandas as pd\n",
    "df=pd.DataFrame()\n",
    "print(df)"
   ]
  },
  {
   "cell_type": "code",
   "execution_count": 24,
   "id": "6c502654",
   "metadata": {},
   "outputs": [
    {
     "name": "stdout",
     "output_type": "stream",
     "text": [
      "\n",
      " data to series frame \n",
      "\n",
      "      emp  ID\n",
      "0     uma  10\n",
      "1    siva  20\n",
      "2  sindhu  30\n",
      "3    ravi  40\n",
      "\n",
      " extracting one column\n",
      "\n",
      "0       uma\n",
      "1      siva\n",
      "2    sindhu\n",
      "3      ravi\n",
      "Name: emp, dtype: object\n",
      "      emp  ID  Age\n",
      "0     uma  10   20\n",
      "1    siva  20   25\n",
      "2  sindhu  30   30\n",
      "3    ravi  40   50\n",
      "\n",
      " extracting the second row\n",
      "\n",
      "emp    siva\n",
      "ID       20\n",
      "Age      25\n",
      "Name: 1, dtype: object\n"
     ]
    }
   ],
   "source": [
    "import pandas as pd\n",
    "emp=pd.Series(['uma','siva','sindhu','ravi'])\n",
    "id=pd.Series([10,20,30,40])\n",
    "frame={'emp':emp,'ID':id}\n",
    "result=pd.DataFrame(frame)\n",
    "print(\"\\n data to series frame \\n\")  \n",
    "print(result)\n",
    "print(\"\\n extracting one column\\n\")\n",
    "print(result['emp'])\n",
    "result['Age']=pd.Series([20,25,30,50])\n",
    "print(result)\n",
    "print(\"\\n extracting the second row\\n\")\n",
    "print(result.loc[1])"
   ]
  },
  {
   "cell_type": "code",
   "execution_count": 32,
   "id": "6b48b4ba",
   "metadata": {},
   "outputs": [
    {
     "name": "stdout",
     "output_type": "stream",
     "text": [
      "\n",
      " adding new row values\n",
      "       emp  ID   Age\n",
      "0     uma  10  20.0\n",
      "1    siva  20  25.0\n",
      "2  sindhu  30  30.0\n",
      "3    ravi  40  50.0\n",
      "0     Anu  20   NaN\n",
      "1    Janu  19   NaN\n"
     ]
    }
   ],
   "source": [
    "d2=pd.DataFrame([['Anu',20],['Janu',19]], columns=['emp','ID'])\n",
    "print(\"\\n adding new row values\\n\",pd.concat([result,d2]))"
   ]
  },
  {
   "cell_type": "code",
   "execution_count": null,
   "id": "7554a46b",
   "metadata": {},
   "outputs": [],
   "source": []
  },
  {
   "cell_type": "code",
   "execution_count": null,
   "id": "ed62b9ef",
   "metadata": {},
   "outputs": [],
   "source": []
  },
  {
   "cell_type": "code",
   "execution_count": null,
   "id": "ac18470e",
   "metadata": {},
   "outputs": [],
   "source": []
  },
  {
   "cell_type": "code",
   "execution_count": null,
   "id": "1430ebf7",
   "metadata": {},
   "outputs": [],
   "source": []
  },
  {
   "cell_type": "code",
   "execution_count": null,
   "id": "9363fe14",
   "metadata": {},
   "outputs": [],
   "source": []
  }
 ],
 "metadata": {
  "kernelspec": {
   "display_name": "Python 3 (ipykernel)",
   "language": "python",
   "name": "python3"
  },
  "language_info": {
   "codemirror_mode": {
    "name": "ipython",
    "version": 3
   },
   "file_extension": ".py",
   "mimetype": "text/x-python",
   "name": "python",
   "nbconvert_exporter": "python",
   "pygments_lexer": "ipython3",
   "version": "3.11.5"
  }
 },
 "nbformat": 4,
 "nbformat_minor": 5
}
