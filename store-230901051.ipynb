{
 "cells": [
  {
   "cell_type": "code",
   "execution_count": 5,
   "id": "71d63fc1-b371-4462-b698-079bb61076f0",
   "metadata": {},
   "outputs": [
    {
     "name": "stdout",
     "output_type": "stream",
     "text": [
      "       a  b  c\n",
      "one    1  2  3\n",
      "two    4  5  6\n",
      "three  7  8  9\n"
     ]
    }
   ],
   "source": [
    "import pandas as pd\n",
    "d=pd.DataFrame([[1,2,3],[4,5,6],[7,8,9]],index=['one','two','three'],columns=['a','b','c'])\n",
    "print(d)"
   ]
  },
  {
   "cell_type": "code",
   "execution_count": 8,
   "id": "dc3b7b42-0988-4c45-a324-b5e791ee8d72",
   "metadata": {},
   "outputs": [],
   "source": [
    "d.to_excel(\"/users/student/Downloads/madhurya.xlsx\")\n",
    "d.to_excel(\"/users/student/Downloads/madhu.xlsx\")"
   ]
  },
  {
   "cell_type": "code",
   "execution_count": 10,
   "id": "25c0ba72-ede8-44a8-9dc0-8f2b8368089e",
   "metadata": {},
   "outputs": [],
   "source": [
    "d=pd.DataFrame([[10,20,30],[40,50,60],[70,80,90]],index=['four','five','six'],columns=['X','Y','Z'])\n",
    "d.to_excel(\"/users/student/Downloads/madhu.xlsx\")"
   ]
  },
  {
   "cell_type": "code",
   "execution_count": 12,
   "id": "a206d487-788a-4fb9-bdfd-a8bb930b3828",
   "metadata": {},
   "outputs": [],
   "source": [
    "x=pd.DataFrame([[6,7],[1,2]],index=('a','b'),columns=('X','Y'))\n",
    "x.to_excel(\"/users/student/Downloads/madhurya.xlsx\")"
   ]
  },
  {
   "cell_type": "code",
   "execution_count": 14,
   "id": "ba2ec147-3268-4b90-9496-070da5146e5e",
   "metadata": {},
   "outputs": [],
   "source": [
    "a=pd.read_excel(\"/users/student/Downloads/madhurya.xlsx\")\n",
    "b=pd.read_excel(\"/users/student/Downloads/madhu.xlsx\")\n",
    "c=pd.concat([a,b])\n",
    "c.to_excel(\"/users/student/Downloads/Book1.xlsx\")"
   ]
  },
  {
   "cell_type": "code",
   "execution_count": 18,
   "id": "e01617a9-0454-4fd7-ad41-1bc456a811f8",
   "metadata": {},
   "outputs": [
    {
     "name": "stdout",
     "output_type": "stream",
     "text": [
      "  Unnamed: 0   X   Y     Z\n",
      "1          b   1   2   NaN\n",
      "0          a   6   7   NaN\n",
      "0       four  10  20  30.0\n",
      "1       five  40  50  60.0\n",
      "2        six  70  80  90.0\n",
      "  Unnamed: 0   X   Y     Z\n",
      "1          b   1   2   NaN\n",
      "0          a   6   7   NaN\n",
      "0       four  10  20  30.0\n",
      "1       five  40  50  60.0\n",
      "2        six  70  80  90.0\n"
     ]
    }
   ],
   "source": [
    "d=c.sort_values(['X'])\n",
    "print(d)\n",
    "d.to_excel(\"/users/student/Downloads/Book1.xlsx\")\n",
    "d=c.sort_values(['Y'])\n",
    "print(d)\n",
    "d.to_excel(\"/users/student/Downloads/Book1.xlsx\")"
   ]
  },
  {
   "cell_type": "code",
   "execution_count": 19,
   "id": "7f280f7e-3d4c-4215-9810-cd03a75725ee",
   "metadata": {},
   "outputs": [
    {
     "name": "stdout",
     "output_type": "stream",
     "text": [
      "   Unnamed: 0.1 Unnamed: 0   X   Y     Z\n",
      "0             1          b   1   2   NaN\n",
      "1             0          a   6   7   NaN\n",
      "2             0       four  10  20  30.0\n",
      "3             1       five  40  50  60.0\n",
      "4             2        six  70  80  90.0\n",
      "['Unnamed: 0.1', 'Unnamed: 0', 'X', 'Y', 'Z']\n",
      "5\n"
     ]
    }
   ],
   "source": [
    "d=pd.read_excel(\"/users/student/Downloads/Book1.xlsx\")\n",
    "print(d)\n",
    "print(list(d))\n",
    "print(format(len(d)))"
   ]
  }
 ],
 "metadata": {
  "kernelspec": {
   "display_name": "Python 3 (ipykernel)",
   "language": "python",
   "name": "python3"
  },
  "language_info": {
   "codemirror_mode": {
    "name": "ipython",
    "version": 3
   },
   "file_extension": ".py",
   "mimetype": "text/x-python",
   "name": "python",
   "nbconvert_exporter": "python",
   "pygments_lexer": "ipython3",
   "version": "3.12.7"
  }
 },
 "nbformat": 4,
 "nbformat_minor": 5
}
