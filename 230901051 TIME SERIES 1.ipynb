{
 "cells": [
  {
   "cell_type": "code",
   "execution_count": 1,
   "id": "5b6a0bb3",
   "metadata": {},
   "outputs": [
    {
     "name": "stdout",
     "output_type": "stream",
     "text": [
      "Today: 2025-04-11 10:34:15.881124\n"
     ]
    }
   ],
   "source": [
    "import datetime\n",
    "a=datetime.datetime.now()\n",
    "print(\"Today:\",a)"
   ]
  },
  {
   "cell_type": "code",
   "execution_count": 5,
   "id": "e3b8e7f0",
   "metadata": {},
   "outputs": [
    {
     "name": "stdout",
     "output_type": "stream",
     "text": [
      "\n",
      "Today: 2025-04-11 10:37:20.718635\n"
     ]
    }
   ],
   "source": [
    "import datetime\n",
    "\n",
    "Today = datetime.datetime.today()\n",
    "print(\"\\nToday:\", Today)"
   ]
  },
  {
   "cell_type": "code",
   "execution_count": 9,
   "id": "ad8feb11",
   "metadata": {},
   "outputs": [
    {
     "name": "stdout",
     "output_type": "stream",
     "text": [
      "\n",
      " tommorow: 2025-04-14 10:37:20.718635\n"
     ]
    }
   ],
   "source": [
    "tomorrow=Today+datetime.timedelta(days=3)\n",
    "print(\"\\n tommorow:\",tomorrow)"
   ]
  },
  {
   "cell_type": "code",
   "execution_count": 11,
   "id": "fff89daa",
   "metadata": {},
   "outputs": [
    {
     "name": "stdout",
     "output_type": "stream",
     "text": [
      "\n",
      " yesterday: 2025-04-08 10:37:20.718635\n"
     ]
    }
   ],
   "source": [
    "yesterday=Today-datetime.timedelta(days=3)\n",
    "print(\"\\n yesterday:\",yesterday)"
   ]
  },
  {
   "cell_type": "code",
   "execution_count": 12,
   "id": "3ff8abb7",
   "metadata": {},
   "outputs": [
    {
     "name": "stdout",
     "output_type": "stream",
     "text": [
      "dateformat[2020,6,8,23,10,25,404040]: 2020-06-08 23:10:25.404040\n"
     ]
    }
   ],
   "source": [
    "a=datetime.datetime.now()\n",
    "b=datetime.datetime(2020,6,8,23,10,25,404040)\n",
    "print(\"dateformat[2020,6,8,23,10,25,404040]:\",b)"
   ]
  },
  {
   "cell_type": "code",
   "execution_count": 14,
   "id": "cd2fe1c9",
   "metadata": {},
   "outputs": [
    {
     "name": "stdout",
     "output_type": "stream",
     "text": [
      "\n",
      " replacing date 2024-12-31 2024-12-15\n"
     ]
    }
   ],
   "source": [
    "from datetime import date \n",
    "d=date(2024,12,31)\n",
    "print(\"\\n replacing date\",d,d.replace(day=15))"
   ]
  },
  {
   "cell_type": "code",
   "execution_count": 16,
   "id": "cacc8892",
   "metadata": {},
   "outputs": [
    {
     "name": "stdout",
     "output_type": "stream",
     "text": [
      "\n",
      "Today: 2025-04-11\n",
      "Current year : 2025\n",
      "Current month: 4\n",
      "Current day: 11\n"
     ]
    }
   ],
   "source": [
    "import datetime\n",
    "\n",
    "Today = datetime.date.today()\n",
    "print(\"\\nToday:\", Today)\n",
    "print(\"Current year :\", Today.year)\n",
    "print(\"Current month:\", Today.month)\n",
    "print(\"Current day:\", Today.day)"
   ]
  },
  {
   "cell_type": "code",
   "execution_count": null,
   "id": "85a84ee9",
   "metadata": {},
   "outputs": [],
   "source": []
  }
 ],
 "metadata": {
  "kernelspec": {
   "display_name": "Python 3 (ipykernel)",
   "language": "python",
   "name": "python3"
  },
  "language_info": {
   "codemirror_mode": {
    "name": "ipython",
    "version": 3
   },
   "file_extension": ".py",
   "mimetype": "text/x-python",
   "name": "python",
   "nbconvert_exporter": "python",
   "pygments_lexer": "ipython3",
   "version": "3.11.5"
  }
 },
 "nbformat": 4,
 "nbformat_minor": 5
}
