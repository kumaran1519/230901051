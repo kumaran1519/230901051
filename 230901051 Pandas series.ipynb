{
 "cells": [
  {
   "cell_type": "code",
   "execution_count": 3,
   "id": "0ac42add",
   "metadata": {},
   "outputs": [
    {
     "name": "stdout",
     "output_type": "stream",
     "text": [
      "0    k\n",
      "1    u\n",
      "2    m\n",
      "3    a\n",
      "4    r\n",
      "5    a\n",
      "6    n\n",
      "dtype: object\n"
     ]
    }
   ],
   "source": [
    "import pandas as pd\n",
    "import numpy as np\n",
    "a=np.array(['k','u','m','a','r','a','n'])\n",
    "b=pd.Series(a)\n",
    "print(b)"
   ]
  },
  {
   "cell_type": "code",
   "execution_count": 5,
   "id": "ebd75de4",
   "metadata": {},
   "outputs": [
    {
     "name": "stdout",
     "output_type": "stream",
     "text": [
      "a    0\n",
      "b    1\n",
      "c    2\n",
      "dtype: int64\n"
     ]
    }
   ],
   "source": [
    "import pandas as pd\n",
    "import numpy as np\n",
    "k={'a':0,'b':1,'c':2}\n",
    "a=pd.Series(k)\n",
    "print(a)"
   ]
  },
  {
   "cell_type": "code",
   "execution_count": 9,
   "id": "57d58044",
   "metadata": {},
   "outputs": [
    {
     "name": "stdout",
     "output_type": "stream",
     "text": [
      "0    4\n",
      "1    4\n",
      "2    4\n",
      "3    4\n",
      "dtype: object\n"
     ]
    }
   ],
   "source": [
    "import pandas as pd\n",
    "import numpy as np\n",
    "scalar=pd.Series('4',index=[0,1,2,3])\n",
    "print(scalar)"
   ]
  },
  {
   "cell_type": "code",
   "execution_count": 13,
   "id": "714cb4ff",
   "metadata": {},
   "outputs": [
    {
     "name": "stdout",
     "output_type": "stream",
     "text": [
      "\n",
      " series:\n",
      " 0    k\n",
      "1    u\n",
      "2    m\n",
      "3    a\n",
      "4    r\n",
      "5    a\n",
      "6    n\n",
      "dtype: object\n",
      "\n",
      " index:\n",
      " RangeIndex(start=0, stop=7, step=1)\n",
      "\n",
      " values:\n",
      " ['k' 'u' 'm' 'a' 'r' 'a' 'n']\n",
      "\n",
      " shape:\n",
      " (7,)\n",
      "\n",
      " size:\n",
      " 7\n",
      "\n",
      " dimension 1\n"
     ]
    }
   ],
   "source": [
    "import pandas as pd\n",
    "import numpy as np\n",
    "a=np.array(['k','u','m','a','r','a','n'])\n",
    "b=pd.Series(a)\n",
    "print(\"\\n series:\\n\",b)\n",
    "print(\"\\n index:\\n\",b.index)\n",
    "print(\"\\n values:\\n\",b.values)\n",
    "print(\"\\n shape:\\n\",b.shape)\n",
    "print(\"\\n size:\\n\",b.size)\n",
    "print(\"\\n dimension\",b.ndim)\n",
    "\n"
   ]
  },
  {
   "cell_type": "code",
   "execution_count": null,
   "id": "e181fc6e",
   "metadata": {},
   "outputs": [],
   "source": []
  }
 ],
 "metadata": {
  "kernelspec": {
   "display_name": "Python 3 (ipykernel)",
   "language": "python",
   "name": "python3"
  },
  "language_info": {
   "codemirror_mode": {
    "name": "ipython",
    "version": 3
   },
   "file_extension": ".py",
   "mimetype": "text/x-python",
   "name": "python",
   "nbconvert_exporter": "python",
   "pygments_lexer": "ipython3",
   "version": "3.11.5"
  }
 },
 "nbformat": 4,
 "nbformat_minor": 5
}
