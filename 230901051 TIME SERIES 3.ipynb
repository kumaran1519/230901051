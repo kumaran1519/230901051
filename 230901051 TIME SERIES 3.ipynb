{
 "cells": [
  {
   "cell_type": "code",
   "execution_count": 1,
   "id": "2d423dc9",
   "metadata": {},
   "outputs": [
    {
     "name": "stdout",
     "output_type": "stream",
     "text": [
      "Date Index \n",
      " 2011-01-02   -1.033296\n",
      "2011-01-05   -0.324783\n",
      "2011-01-07    0.337529\n",
      "2011-01-08    0.931518\n",
      "2011-01-10   -1.004326\n",
      "2011-01-12   -0.195743\n",
      "dtype: float64\n"
     ]
    }
   ],
   "source": [
    "import pandas as pd\n",
    "import numpy as np\n",
    "from datetime import datetime\n",
    "dates = [datetime(2011, 1, 2),\n",
    "datetime(2011, 1, 5),\n",
    "datetime(2011, 1, 7),\n",
    "datetime(2011, 1, 8),\n",
    "datetime(2011, 1, 10),\n",
    "datetime(2011, 1, 12)]\n",
    "ts = pd.Series(np.random.randn(6), index=dates)\n",
    "print(\"Date Index \\n\",ts)"
   ]
  },
  {
   "cell_type": "code",
   "execution_count": 2,
   "id": "4f0cc3b4",
   "metadata": {},
   "outputs": [
    {
     "name": "stdout",
     "output_type": "stream",
     "text": [
      "\n",
      "Date Index alone from the series: \n",
      " DatetimeIndex(['2011-01-02', '2011-01-05', '2011-01-07', '2011-01-08',\n",
      "               '2011-01-10', '2011-01-12'],\n",
      "              dtype='datetime64[ns]', freq=None)\n"
     ]
    }
   ],
   "source": [
    "print(\"\\nDate Index alone from the series: \\n\",ts.index)"
   ]
  },
  {
   "cell_type": "code",
   "execution_count": 3,
   "id": "dc3d3de1",
   "metadata": {},
   "outputs": [
    {
     "name": "stdout",
     "output_type": "stream",
     "text": [
      "\n",
      "Second index:\n",
      " 2011-01-07 00:00:00\n"
     ]
    }
   ],
   "source": [
    "stamp=ts.index[2]\n",
    "print(\"\\nSecond index:\\n\",stamp)"
   ]
  },
  {
   "cell_type": "code",
   "execution_count": 4,
   "id": "f37d1008",
   "metadata": {},
   "outputs": [
    {
     "name": "stdout",
     "output_type": "stream",
     "text": [
      "\n",
      "Daterange up to 1000 days:\n",
      " 2000-01-01    0.301640\n",
      "2000-01-02   -0.329090\n",
      "2000-01-03   -2.050578\n",
      "2000-01-04    0.670037\n",
      "2000-01-05   -0.161924\n",
      "                ...   \n",
      "2002-09-22   -1.530774\n",
      "2002-09-23   -0.596879\n",
      "2002-09-24   -0.245040\n",
      "2002-09-25   -0.125220\n",
      "2002-09-26   -0.797874\n",
      "Freq: D, Length: 1000, dtype: float64\n"
     ]
    }
   ],
   "source": [
    "longer_ts=pd.Series(np.random.randn(1000),\n",
    "index=pd.date_range(\"2000-01-01\",periods=1000))\n",
    "print(\"\\nDaterange up to 1000 days:\\n\",longer_ts)"
   ]
  },
  {
   "cell_type": "code",
   "execution_count": 5,
   "id": "acbfebff",
   "metadata": {},
   "outputs": [
    {
     "name": "stdout",
     "output_type": "stream",
     "text": [
      "\n",
      "Date range-2001 year:\n",
      " 2001-01-01    1.789501\n",
      "2001-01-02   -1.084990\n",
      "2001-01-03    0.383825\n",
      "2001-01-04    0.167777\n",
      "2001-01-05   -0.955417\n",
      "                ...   \n",
      "2001-12-27    0.547648\n",
      "2001-12-28   -0.894001\n",
      "2001-12-29    0.170577\n",
      "2001-12-30    1.318688\n",
      "2001-12-31   -0.840321\n",
      "Freq: D, Length: 365, dtype: float64\n"
     ]
    }
   ],
   "source": [
    "print(\"\\nDate range-2001 year:\\n\", longer_ts[\"2001\"])\n"
   ]
  },
  {
   "cell_type": "code",
   "execution_count": 6,
   "id": "bc437213",
   "metadata": {},
   "outputs": [
    {
     "name": "stdout",
     "output_type": "stream",
     "text": [
      "\n",
      "Date range-05 month 2001 year:\n",
      " 2001-05-01   -0.612471\n",
      "2001-05-02   -0.650957\n",
      "2001-05-03    2.094875\n",
      "2001-05-04    1.439589\n",
      "2001-05-05    0.753459\n",
      "2001-05-06   -1.227987\n",
      "2001-05-07   -1.132573\n",
      "2001-05-08    0.855552\n",
      "2001-05-09   -1.054013\n",
      "2001-05-10    1.492237\n",
      "2001-05-11    2.227116\n",
      "2001-05-12   -1.181360\n",
      "2001-05-13   -0.996336\n",
      "2001-05-14   -0.430923\n",
      "2001-05-15    0.823484\n",
      "2001-05-16    0.929934\n",
      "2001-05-17   -1.764088\n",
      "2001-05-18   -0.465469\n",
      "2001-05-19    1.449476\n",
      "2001-05-20    0.451772\n",
      "2001-05-21    0.476603\n",
      "2001-05-22   -1.466462\n",
      "2001-05-23    0.302507\n",
      "2001-05-24    0.377679\n",
      "2001-05-25   -0.844477\n",
      "2001-05-26   -0.436375\n",
      "2001-05-27   -1.175899\n",
      "2001-05-28    1.815140\n",
      "2001-05-29   -0.344919\n",
      "2001-05-30    0.311238\n",
      "2001-05-31    1.024931\n",
      "Freq: D, dtype: float64\n"
     ]
    }
   ],
   "source": [
    "print(\"\\nDate range-05 month 2001 year:\\n\", longer_ts[\"2001-05\"])"
   ]
  },
  {
   "cell_type": "code",
   "execution_count": 7,
   "id": "d17e3266",
   "metadata": {},
   "outputs": [
    {
     "name": "stdout",
     "output_type": "stream",
     "text": [
      "nDate range-first few dates in 2000 year:\n",
      " 2000-01-01    0.301640\n",
      "2000-01-02   -0.329090\n",
      "2000-01-03   -2.050578\n",
      "2000-01-04    0.670037\n",
      "2000-01-05   -0.161924\n",
      "Freq: D, dtype: float64\n"
     ]
    }
   ],
   "source": [
    "print(\"nDate range-first few dates in 2000 year:\\n\",longer_ts[\"2000\"].head())"
   ]
  },
  {
   "cell_type": "code",
   "execution_count": 8,
   "id": "7cbb8a19",
   "metadata": {},
   "outputs": [
    {
     "name": "stdout",
     "output_type": "stream",
     "text": [
      "\n",
      "Date range-first 15 dates in 02 month 2001 year:\n",
      " 2000-02-01    0.402024\n",
      "2000-02-02   -0.598171\n",
      "2000-02-03    0.833813\n",
      "2000-02-04    1.735083\n",
      "2000-02-05    1.136762\n",
      "2000-02-06   -1.844077\n",
      "2000-02-07    0.080770\n",
      "2000-02-08   -0.599253\n",
      "2000-02-09    1.000209\n",
      "2000-02-10    0.211793\n",
      "2000-02-11   -0.546745\n",
      "2000-02-12    0.406366\n",
      "2000-02-13   -0.212644\n",
      "2000-02-14    0.656223\n",
      "2000-02-15   -1.279610\n",
      "Freq: D, dtype: float64\n"
     ]
    }
   ],
   "source": [
    "print(\"\\nDate range-first 15 dates in 02 month 2001 year:\\n\",longer_ts[\"2000-02\"].head(15))"
   ]
  },
  {
   "cell_type": "code",
   "execution_count": 9,
   "id": "7f3bde4d",
   "metadata": {},
   "outputs": [
    {
     "name": "stdout",
     "output_type": "stream",
     "text": [
      "\n",
      "Date range-rom 26-9-2001:\n",
      " 2000-09-26   -0.933644\n",
      "2000-09-27   -0.271271\n",
      "2000-09-28    0.493235\n",
      "2000-09-29   -1.177310\n",
      "2000-09-30   -2.645850\n",
      "                ...   \n",
      "2002-09-22   -1.530774\n",
      "2002-09-23   -0.596879\n",
      "2002-09-24   -0.245040\n",
      "2002-09-25   -0.125220\n",
      "2002-09-26   -0.797874\n",
      "Freq: D, Length: 731, dtype: float64\n"
     ]
    }
   ],
   "source": [
    "print(\"\\nDate range-rom 26-9-2001:\\n\",longer_ts[datetime(2000,9,26):])"
   ]
  },
  {
   "cell_type": "code",
   "execution_count": 11,
   "id": "75e582fd",
   "metadata": {},
   "outputs": [
    {
     "name": "stdout",
     "output_type": "stream",
     "text": [
      "\n",
      "Date range from 26-9-2001 to 25-9-2002:\n",
      " 2001-09-26    0.736916\n",
      "2001-09-27   -0.101895\n",
      "2001-09-28    1.169713\n",
      "2001-09-29   -0.281926\n",
      "2001-09-30    0.681839\n",
      "                ...   \n",
      "2002-09-21    1.126030\n",
      "2002-09-22   -1.530774\n",
      "2002-09-23   -0.596879\n",
      "2002-09-24   -0.245040\n",
      "2002-09-25   -0.125220\n",
      "Freq: D, Length: 365, dtype: float64\n"
     ]
    }
   ],
   "source": [
    "print(\"\\nDate range from 26-9-2001 to 25-9-2002:\\n\",longer_ts[datetime(2001,9,26):datetime(2002,9,25)])"
   ]
  },
  {
   "cell_type": "code",
   "execution_count": null,
   "id": "13b50a34",
   "metadata": {},
   "outputs": [],
   "source": []
  }
 ],
 "metadata": {
  "kernelspec": {
   "display_name": "Python 3 (ipykernel)",
   "language": "python",
   "name": "python3"
  },
  "language_info": {
   "codemirror_mode": {
    "name": "ipython",
    "version": 3
   },
   "file_extension": ".py",
   "mimetype": "text/x-python",
   "name": "python",
   "nbconvert_exporter": "python",
   "pygments_lexer": "ipython3",
   "version": "3.11.5"
  }
 },
 "nbformat": 4,
 "nbformat_minor": 5
}
