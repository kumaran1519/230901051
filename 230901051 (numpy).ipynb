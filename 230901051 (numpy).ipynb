{
 "cells": [
  {
   "cell_type": "code",
   "execution_count": 1,
   "id": "d36233dc",
   "metadata": {},
   "outputs": [
    {
     "name": "stdout",
     "output_type": "stream",
     "text": [
      "One dimensional array: [10 20 30]\n"
     ]
    }
   ],
   "source": [
    "import numpy as np\n",
    "a=np.array([10,20,30])\n",
    "print(\"One dimensional array:\",a)"
   ]
  },
  {
   "cell_type": "code",
   "execution_count": 3,
   "id": "7fdc8457",
   "metadata": {},
   "outputs": [
    {
     "name": "stdout",
     "output_type": "stream",
     "text": [
      "Two dimensional array: [[1 2 3]\n",
      " [4 5 6]]\n"
     ]
    }
   ],
   "source": [
    "import numpy as np\n",
    "b=np.array([[1,2,3],[4,5,6]])\n",
    "print(\"Two dimensional array:\",b)"
   ]
  },
  {
   "cell_type": "code",
   "execution_count": 4,
   "id": "7e7f2114",
   "metadata": {},
   "outputs": [
    {
     "name": "stdout",
     "output_type": "stream",
     "text": [
      "Three dimensional array: [[1 2 3]\n",
      " [4 5 6]\n",
      " [7 8 9]]\n"
     ]
    }
   ],
   "source": [
    "import numpy as np\n",
    "c=np.array([[1,2,3],[4,5,6],[7,8,9]])\n",
    "print(\"Three dimensional array:\",c)"
   ]
  },
  {
   "cell_type": "code",
   "execution_count": 5,
   "id": "b87369f4",
   "metadata": {},
   "outputs": [
    {
     "name": "stdout",
     "output_type": "stream",
     "text": [
      "\n",
      " array with all zereos\n",
      " [[0. 0. 0. 0. 0.]\n",
      " [0. 0. 0. 0. 0.]\n",
      " [0. 0. 0. 0. 0.]]\n"
     ]
    }
   ],
   "source": [
    "import numpy as np\n",
    "d=np.zeros((3,5))\n",
    "print(\"\\n array with all zereos\\n\",d)"
   ]
  },
  {
   "cell_type": "code",
   "execution_count": 6,
   "id": "bac04a91",
   "metadata": {},
   "outputs": [
    {
     "name": "stdout",
     "output_type": "stream",
     "text": [
      "\n",
      "random value\n",
      ": [[0.05304826 0.58442464]\n",
      " [0.39418929 0.34340809]\n",
      " [0.09726091 0.14164491]]\n"
     ]
    }
   ],
   "source": [
    "import numpy as np\n",
    "e=np.random.random((3,2))\n",
    "print(\"\\nrandom value\\n:\",e)"
   ]
  },
  {
   "cell_type": "code",
   "execution_count": 7,
   "id": "24721a1c",
   "metadata": {},
   "outputs": [
    {
     "name": "stdout",
     "output_type": "stream",
     "text": [
      "\n",
      " sequence array \n",
      ": [10 15 20 25]\n"
     ]
    }
   ],
   "source": [
    "import numpy as np\n",
    "f=np.arange(10,30,5)\n",
    "print(\"\\n sequence array \\n:\",f)"
   ]
  },
  {
   "cell_type": "code",
   "execution_count": 8,
   "id": "dcda752e",
   "metadata": {},
   "outputs": [
    {
     "name": "stdout",
     "output_type": "stream",
     "text": [
      "\n",
      " old array :\n",
      " [[ 1  2  3  4]\n",
      " [ 5  6  7  8]\n",
      " [ 9 10 11 12]]\n",
      "\n",
      " reshaped array:\n",
      " [[ 1  2  3]\n",
      " [ 4  5  6]\n",
      " [ 7  8  9]\n",
      " [10 11 12]]\n"
     ]
    }
   ],
   "source": [
    "import numpy as np\n",
    "a=np.array([[1,2,3,4],[5,6,7,8],[9,10,11,12]])\n",
    "b=a.reshape(4,3)\n",
    "print(\"\\n old array :\\n\",a)\n",
    "print(\"\\n reshaped array:\\n\",b)"
   ]
  },
  {
   "cell_type": "code",
   "execution_count": 12,
   "id": "ac56c022",
   "metadata": {},
   "outputs": [
    {
     "name": "stdout",
     "output_type": "stream",
     "text": [
      "\n",
      " original array:\n",
      " [[1 2 3]\n",
      " [2 3 4]\n",
      " [5 6 7]]\n",
      "\n",
      " flattened array:\n",
      " [ 1  2  3  4  5  6  7  8  9 10 11 12]\n"
     ]
    }
   ],
   "source": [
    "m=np.array([[1,2,3],[2,3,4],[5,6,7]])\n",
    "a=a.flatten()\n",
    "print(\"\\n original array:\\n\",m)\n",
    "print(\"\\n flattened array:\\n\",a)"
   ]
  },
  {
   "cell_type": "code",
   "execution_count": 20,
   "id": "775ca779",
   "metadata": {},
   "outputs": [
    {
     "name": "stdout",
     "output_type": "stream",
     "text": [
      "\n",
      " No of dimensional array:\n",
      " 2\n"
     ]
    }
   ],
   "source": [
    "a=np.array([[1,2,3],[3,4,5],[6,7,8]])\n",
    "print(\"\\n No of dimensional array:\\n\",a.ndim)"
   ]
  },
  {
   "cell_type": "code",
   "execution_count": 32,
   "id": "ca56428c",
   "metadata": {},
   "outputs": [
    {
     "name": "stdout",
     "output_type": "stream",
     "text": [
      "\n",
      " no of dimensional array:\n",
      "  3\n",
      "\n",
      " shape of array:\n",
      " (2, 2, 3)\n",
      "\n",
      " elemental array:\n",
      " int64\n"
     ]
    }
   ],
   "source": [
    "k=np.array([[[1,2,3],[4,5,6]],[[7,8,9],[10,11,12]]])\n",
    "print(\"\\n no of dimensional array:\\n \",k.ndim)\n",
    "print(\"\\n shape of array:\\n\",k.shape)\n",
    "print(\"\\n elemental array:\\n\",k.dtype)\n",
    "\n",
    "\n",
    "                            "
   ]
  },
  {
   "cell_type": "code",
   "execution_count": 34,
   "id": "241d6ad6",
   "metadata": {},
   "outputs": [
    {
     "name": "stdout",
     "output_type": "stream",
     "text": [
      "\n",
      " size of array:\n",
      " 9\n"
     ]
    }
   ],
   "source": [
    "import numpy as np\n",
    "k=np.array([[1,2,3],[4,5,6],[7,8,9]])\n",
    "size=len(v)\n",
    "print(\"\\n size of array:\\n\",k.size)"
   ]
  },
  {
   "cell_type": "code",
   "execution_count": null,
   "id": "17596a8f",
   "metadata": {},
   "outputs": [],
   "source": []
  },
  {
   "cell_type": "code",
   "execution_count": null,
   "id": "a0b1909f",
   "metadata": {},
   "outputs": [],
   "source": []
  }
 ],
 "metadata": {
  "kernelspec": {
   "display_name": "Python 3 (ipykernel)",
   "language": "python",
   "name": "python3"
  },
  "language_info": {
   "codemirror_mode": {
    "name": "ipython",
    "version": 3
   },
   "file_extension": ".py",
   "mimetype": "text/x-python",
   "name": "python",
   "nbconvert_exporter": "python",
   "pygments_lexer": "ipython3",
   "version": "3.11.5"
  }
 },
 "nbformat": 4,
 "nbformat_minor": 5
}
